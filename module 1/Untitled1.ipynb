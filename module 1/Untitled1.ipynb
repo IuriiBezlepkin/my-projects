{
 "cells": [
  {
   "cell_type": "code",
   "execution_count": 3,
   "metadata": {},
   "outputs": [
    {
     "name": "stdout",
     "output_type": "stream",
     "text": [
      "Hello World!\n"
     ]
    }
   ],
   "source": [
    "print (\"Hello\" \" \"+ \"World!\")"
   ]
  },
  {
   "cell_type": "code",
   "execution_count": 1,
   "metadata": {},
   "outputs": [],
   "source": [
    "color = \"фиолетовый\"\n",
    "flower = \"роза\"\n",
    "color1 = color ==\"синий\" or color== \"белый\""
   ]
  },
  {
   "cell_type": "code",
   "execution_count": 2,
   "metadata": {},
   "outputs": [
    {
     "data": {
      "text/plain": [
       "bool"
      ]
     },
     "execution_count": 2,
     "metadata": {},
     "output_type": "execute_result"
    }
   ],
   "source": [
    "type(color1)"
   ]
  },
  {
   "cell_type": "code",
   "execution_count": 6,
   "metadata": {},
   "outputs": [
    {
     "ename": "NameError",
     "evalue": "name 'подшипник' is not defined",
     "output_type": "error",
     "traceback": [
      "\u001b[1;31m---------------------------------------------------------------------------\u001b[0m",
      "\u001b[1;31mNameError\u001b[0m                                 Traceback (most recent call last)",
      "\u001b[1;32m<ipython-input-6-69f861e21d0d>\u001b[0m in \u001b[0;36m<module>\u001b[1;34m\u001b[0m\n\u001b[0;32m      1\u001b[0m \u001b[0mword\u001b[0m \u001b[1;33m=\u001b[0m \u001b[1;34m\"подшипник\"\u001b[0m\u001b[1;33m\u001b[0m\u001b[1;33m\u001b[0m\u001b[0m\n\u001b[1;32m----> 2\u001b[1;33m \u001b[0menumerate\u001b[0m\u001b[1;33m(\u001b[0m\u001b[0mподшипник\u001b[0m\u001b[1;33m)\u001b[0m\u001b[1;33m\u001b[0m\u001b[1;33m\u001b[0m\u001b[0m\n\u001b[0m",
      "\u001b[1;31mNameError\u001b[0m: name 'подшипник' is not defined"
     ]
    }
   ],
   "source": [
    "word = \"подшипник\"\n",
    "enumerate(подшипник)"
   ]
  },
  {
   "cell_type": "code",
   "execution_count": 8,
   "metadata": {},
   "outputs": [
    {
     "ename": "SyntaxError",
     "evalue": "invalid syntax (<ipython-input-8-6225600e54db>, line 2)",
     "output_type": "error",
     "traceback": [
      "\u001b[1;36m  File \u001b[1;32m\"<ipython-input-8-6225600e54db>\"\u001b[1;36m, line \u001b[1;32m2\u001b[0m\n\u001b[1;33m    for i, letter in enumerate(word)\u001b[0m\n\u001b[1;37m                                    ^\u001b[0m\n\u001b[1;31mSyntaxError\u001b[0m\u001b[1;31m:\u001b[0m invalid syntax\n"
     ]
    }
   ],
   "source": [
    "word = \"подшипник\"\n",
    "for i, letter in enumerate(word)\n",
    "    print(i,letter)"
   ]
  },
  {
   "cell_type": "code",
   "execution_count": 11,
   "metadata": {},
   "outputs": [
    {
     "data": {
      "text/plain": [
       "'о'"
      ]
     },
     "execution_count": 11,
     "metadata": {},
     "output_type": "execute_result"
    }
   ],
   "source": [
    "word = \"Подшипник\"\n",
    "word[1]"
   ]
  },
  {
   "cell_type": "code",
   "execution_count": 19,
   "metadata": {},
   "outputs": [
    {
     "name": "stdout",
     "output_type": "stream",
     "text": [
      "п\n",
      "д\n",
      "и\n",
      "н\n",
      "к\n"
     ]
    }
   ],
   "source": [
    "word = \"подшипник\"\n",
    "for i in range(0, len(word)+1):\n",
    " if i%2==0:\n",
    "    print(word[i])\n",
    "    "
   ]
  },
  {
   "cell_type": "code",
   "execution_count": 23,
   "metadata": {},
   "outputs": [
    {
     "name": "stdout",
     "output_type": "stream",
     "text": [
      "2013 год невисокосный\n",
      "2014 год невисокосный\n",
      "2015 год невисокосный\n",
      "2016 год високосный\n",
      "2017 год невисокосный\n",
      "2018 год невисокосный\n",
      "2019 год невисокосный\n",
      "2020 год високосный\n",
      "2021 год невисокосный\n",
      "2022 год невисокосный\n",
      "2023 год невисокосный\n",
      "2024 год високосный\n",
      "2025 год невисокосный\n",
      "2026 год невисокосный\n",
      "2027 год невисокосный\n",
      "2028 год високосный\n",
      "2029 год невисокосный\n",
      "2030 год невисокосный\n",
      "2031 год невисокосный\n",
      "2032 год високосный\n",
      "2033 год невисокосный\n",
      "2034 год невисокосный\n",
      "2035 год невисокосный\n",
      "2036 год високосный\n",
      "2037 год невисокосный\n",
      "2038 год невисокосный\n",
      "2039 год невисокосный\n",
      "2040 год високосный\n",
      "2041 год невисокосный\n",
      "2042 год невисокосный\n",
      "2043 год невисокосный\n",
      "2044 год високосный\n",
      "2045 год невисокосный\n",
      "2046 год невисокосный\n",
      "2047 год невисокосный\n",
      "2048 год високосный\n",
      "2049 год невисокосный\n",
      "2050 год невисокосный\n",
      "2051 год невисокосный\n",
      "2052 год високосный\n",
      "2053 год невисокосный\n",
      "2054 год невисокосный\n",
      "2055 год невисокосный\n",
      "2056 год високосный\n",
      "2057 год невисокосный\n",
      "2058 год невисокосный\n",
      "2059 год невисокосный\n",
      "2060 год високосный\n",
      "2061 год невисокосный\n",
      "2062 год невисокосный\n",
      "2063 год невисокосный\n",
      "2064 год високосный\n",
      "2065 год невисокосный\n",
      "2066 год невисокосный\n",
      "2067 год невисокосный\n",
      "2068 год високосный\n",
      "2069 год невисокосный\n",
      "2070 год невисокосный\n",
      "2071 год невисокосный\n",
      "2072 год високосный\n",
      "2073 год невисокосный\n",
      "2074 год невисокосный\n",
      "2075 год невисокосный\n",
      "2076 год високосный\n",
      "2077 год невисокосный\n",
      "2078 год невисокосный\n",
      "2079 год невисокосный\n",
      "2080 год високосный\n",
      "2081 год невисокосный\n",
      "2082 год невисокосный\n",
      "2083 год невисокосный\n",
      "2084 год високосный\n",
      "2085 год невисокосный\n",
      "2086 год невисокосный\n",
      "2087 год невисокосный\n",
      "2088 год високосный\n",
      "2089 год невисокосный\n",
      "2090 год невисокосный\n",
      "2091 год невисокосный\n",
      "2092 год високосный\n",
      "2093 год невисокосный\n",
      "2094 год невисокосный\n",
      "2095 год невисокосный\n",
      "2096 год високосный\n",
      "2097 год невисокосный\n",
      "2098 год невисокосный\n",
      "2099 год невисокосный\n",
      "2100 год невисокосный\n"
     ]
    }
   ],
   "source": [
    "year_1 = 2013\n",
    "year_2 = 2100\n",
    "for i in range(year_1, year_2+1):\n",
    " if i%4==0 and i%100!=0:\n",
    "    print (i,\"год високосный\")\n",
    " elif i%4==0 and i%100==0 and i%400==0:\n",
    "    print (i,\"год високосный\")\n",
    " else:\n",
    "    print (i,\"год невисокосный\")"
   ]
  },
  {
   "cell_type": "code",
   "execution_count": 24,
   "metadata": {},
   "outputs": [
    {
     "name": "stdout",
     "output_type": "stream",
     "text": [
      "и\n",
      "у\n",
      "а\n",
      "и\n",
      "а\n"
     ]
    }
   ],
   "source": [
    "word = 'Зимушка-зима'\n",
    "x = ('а', 'о', 'э', 'е', 'и', 'ы', 'у', 'ё', 'ю', 'я')\n",
    "for letter in word:\n",
    " if letter in x:\n",
    "     print(letter)"
   ]
  },
  {
   "cell_type": "code",
   "execution_count": 25,
   "metadata": {},
   "outputs": [
    {
     "name": "stdout",
     "output_type": "stream",
     "text": [
      "0 С\n",
      "1 е\n",
      "2 р\n",
      "3 г\n",
      "4 е\n",
      "5 й\n"
     ]
    }
   ],
   "source": [
    "word = \"Сергей\"\n",
    "for i, letter in enumerate(word):\n",
    "    #Здесь i - номер итерации, а letter - символ номер i из строки 'Привет!'\n",
    "    print(i, letter)"
   ]
  },
  {
   "cell_type": "code",
   "execution_count": 31,
   "metadata": {},
   "outputs": [
    {
     "name": "stdout",
     "output_type": "stream",
     "text": [
      "Буква 1 в этом имени- С\n",
      "Буква 2 в этом имени- е\n",
      "Буква 3 в этом имени- р\n",
      "Буква 4 в этом имени- г\n",
      "Буква 5 в этом имени- е\n",
      "Буква 6 в этом имени- й\n"
     ]
    }
   ],
   "source": [
    "word = \"Сергей\"\n",
    "for i, letter in enumerate(word):\n",
    "        print(\"Буква\", i+1, \"в этом имени-\", letter)"
   ]
  },
  {
   "cell_type": "code",
   "execution_count": 36,
   "metadata": {},
   "outputs": [
    {
     "name": "stdout",
     "output_type": "stream",
     "text": [
      "25\n",
      "27\n",
      "33\n",
      "35\n",
      "39\n",
      "45\n"
     ]
    }
   ],
   "source": [
    "num_1 = 25\n",
    "num_2 = 45\n",
    "if num_2<num_1 or num_1<0:\n",
    "    print(\"Введён неверный диапазон чисел\")\n",
    "for i in range(num_1, num_2+1):\n",
    " if i%2!=0 and (i%3==0 or i%5==0):\n",
    "     print(i)"
   ]
  },
  {
   "cell_type": "code",
   "execution_count": null,
   "metadata": {},
   "outputs": [],
   "source": [
    "for i n range (1,10):\n",
    "    print(i, i**2,i**3)"
   ]
  },
  {
   "cell_type": "code",
   "execution_count": 42,
   "metadata": {},
   "outputs": [
    {
     "name": "stdout",
     "output_type": "stream",
     "text": [
      "1 1 1\n",
      "2 4 8\n",
      "3 9 27\n",
      "4 16 64\n",
      "5 25 125\n",
      "6 36 216\n",
      "7 49 343\n",
      "8 64 512\n",
      "9 81 729\n",
      "10 100 1000\n"
     ]
    }
   ],
   "source": [
    "for i in range (1, 11):\n",
    "    print(i, i**2,i**3)"
   ]
  },
  {
   "cell_type": "code",
   "execution_count": 43,
   "metadata": {},
   "outputs": [
    {
     "name": "stdout",
     "output_type": "stream",
     "text": [
      "1\n",
      "2\n",
      "3\n",
      "4\n",
      "6\n",
      "7\n",
      "12\n",
      "14\n",
      "21\n",
      "28\n",
      "42\n",
      "84\n"
     ]
    }
   ],
   "source": [
    "#number = int(input())\n",
    "number = 84\n",
    "for i in range (1, number+1):\n",
    " if number%i==0:\n",
    "     print(i)"
   ]
  },
  {
   "cell_type": "code",
   "execution_count": 51,
   "metadata": {},
   "outputs": [
    {
     "name": "stdout",
     "output_type": "stream",
     "text": [
      "2\n"
     ]
    }
   ],
   "source": [
    "#num_1 = int(input())\n",
    "#num_2 = int(input())\n",
    "num_1 = 12\n",
    "num_2 = 38\n",
    "for i in range (2, num_2+1):\n",
    " if num_1%i==0 and num_2%i==0:\n",
    "     print(i)"
   ]
  },
  {
   "cell_type": "code",
   "execution_count": 55,
   "metadata": {},
   "outputs": [
    {
     "name": "stdout",
     "output_type": "stream",
     "text": [
      "-3\n",
      "-1\n",
      "1\n",
      "3\n",
      "5\n",
      "7\n",
      "9\n",
      "11\n",
      "13\n",
      "15\n",
      "17\n",
      "19\n"
     ]
    }
   ],
   "source": [
    "n=10\n",
    "for i in range (1,n+1):\n",
    "    x=i-1\n",
    "        print(i-1+i)"
   ]
  },
  {
   "cell_type": "code",
   "execution_count": 56,
   "metadata": {},
   "outputs": [
    {
     "name": "stdout",
     "output_type": "stream",
     "text": [
      "15 Х 1 = 15\n",
      "15 Х 2 = 30\n",
      "15 Х 3 = 45\n",
      "15 Х 4 = 60\n",
      "15 Х 5 = 75\n",
      "15 Х 6 = 90\n",
      "15 Х 7 = 105\n",
      "15 Х 8 = 120\n",
      "15 Х 9 = 135\n",
      "15 Х 10 = 150\n",
      "15 Х 11 = 165\n",
      "15 Х 12 = 180\n",
      "15 Х 13 = 195\n",
      "15 Х 14 = 210\n",
      "15 Х 15 = 225\n"
     ]
    }
   ],
   "source": [
    "number = 15\n",
    "for i in range (1, number+1):\n",
    "    print(number,\"Х\", i, \"=\", number*i)"
   ]
  },
  {
   "cell_type": "code",
   "execution_count": 59,
   "metadata": {},
   "outputs": [
    {
     "name": "stdout",
     "output_type": "stream",
     "text": [
      "34\n"
     ]
    }
   ],
   "source": [
    "fib1=fib2=1\n",
    "n=9\n",
    "for i in range (2, n):\n",
    "    fib1, fib2 = fib2, fib1 + fib2\n",
    "print(fib2)"
   ]
  },
  {
   "cell_type": "code",
   "execution_count": 88,
   "metadata": {},
   "outputs": [
    {
     "ename": "IndentationError",
     "evalue": "expected an indented block (<ipython-input-88-6f86c616da56>, line 11)",
     "output_type": "error",
     "traceback": [
      "\u001b[1;36m  File \u001b[1;32m\"<ipython-input-88-6f86c616da56>\"\u001b[1;36m, line \u001b[1;32m11\u001b[0m\n\u001b[1;33m    if count==0 or count==1:\u001b[0m\n\u001b[1;37m     ^\u001b[0m\n\u001b[1;31mIndentationError\u001b[0m\u001b[1;31m:\u001b[0m expected an indented block\n"
     ]
    }
   ],
   "source": [
    "#num_1 = int(input())\n",
    "#num_2 = int(input())\n",
    "num_1 = 10\n",
    "num_2 = 12\n",
    "count=0\n",
    "for i in range (2, num_1):\n",
    " if num_1%i==0 and num_2%i==0:\n",
    "    count = i\n",
    "     else:\n",
    " if count==0 or count==1:\n",
    "    print('Общих делителей не найдено')"
   ]
  },
  {
   "cell_type": "code",
   "execution_count": 87,
   "metadata": {},
   "outputs": [
    {
     "name": "stdout",
     "output_type": "stream",
     "text": [
      "стркция"
     ]
    }
   ],
   "source": [
    "#string = input()\n",
    "string = 'абстракция'\n",
    "y = ('а', 'б', 'в')\n",
    "for letter in string:\n",
    "    if letter in y:\n",
    "        continue\n",
    "    else:\n",
    "        print(letter,end=\"\")"
   ]
  },
  {
   "cell_type": "code",
   "execution_count": 88,
   "metadata": {},
   "outputs": [
    {
     "data": {
      "text/plain": [
       "1"
      ]
     },
     "execution_count": 88,
     "metadata": {},
     "output_type": "execute_result"
    }
   ],
   "source": [
    "string = \"нет\"\n",
    "string.count(\"нет\")"
   ]
  },
  {
   "cell_type": "code",
   "execution_count": 15,
   "metadata": {},
   "outputs": [],
   "source": [
    "number = 2\n",
    "for i in range (2, number):\n",
    "    if number==2:\n",
    "        print(\"Простое\")\n",
    "    elif number%i==0:\n",
    "        break\n",
    "        print(\"не является простым\")\n",
    "    else"
   ]
  },
  {
   "cell_type": "code",
   "execution_count": 19,
   "metadata": {},
   "outputs": [
    {
     "name": "stdout",
     "output_type": "stream",
     "text": [
      "Простое\n"
     ]
    }
   ],
   "source": [
    "number = 173\n",
    "count=0\n",
    "for i in range(1, number+1):\n",
    "    if number%i==0:\n",
    "        count=count+1\n",
    "if count>2:\n",
    "    print('Не является простым')\n",
    "else:\n",
    "    print('Простое')"
   ]
  },
  {
   "cell_type": "code",
   "execution_count": 91,
   "metadata": {},
   "outputs": [],
   "source": [
    "string = \"н\"\n",
    "y=5\n",
    "count1 = 0\n",
    "for i in range (1, y+1):\n",
    "        if string == \"нет\":\n",
    "            count1=count1+1\n",
    "            print(\"Увы, это неправильный ответ\")\n",
    "        elif string=='да':\n",
    "            print(\"Это отлично!\")\n",
    "if count1 >=5:\n",
    "    print(\"Это безнадёжно!\")"
   ]
  },
  {
   "cell_type": "code",
   "execution_count": 99,
   "metadata": {},
   "outputs": [
    {
     "name": "stdout",
     "output_type": "stream",
     "text": [
      "Какая хорошая строка\n"
     ]
    }
   ],
   "source": [
    "string = 'по'\n",
    "x = ('а', 'о', 'э', 'е', 'и', 'ы', 'у', 'ё', 'ю', 'я')\n",
    "for i in range(0, len(string)):\n",
    "    if i%2==0 and string[i] in x:\n",
    "        break\n",
    "        print(\"Эта строка не подходит\")\n",
    "print(\"Какая хорошая строка\")\n",
    "    \n"
   ]
  },
  {
   "cell_type": "code",
   "execution_count": 39,
   "metadata": {},
   "outputs": [
    {
     "name": "stdout",
     "output_type": "stream",
     "text": [
      "1234\n",
      "пароль ненадежный\n"
     ]
    }
   ],
   "source": [
    "password = input(str())\n",
    "if len(password)<6 or \"qwert\" in password or \"1234\" in password:\n",
    "    print(\"пароль ненадежный\")\n",
    "else:\n",
    "    print(\"пароль надежный\")"
   ]
  },
  {
   "cell_type": "code",
   "execution_count": 43,
   "metadata": {},
   "outputs": [
    {
     "name": "stdout",
     "output_type": "stream",
     "text": [
      "я\n"
     ]
    }
   ],
   "source": [
    "string = \"Катя\"\n",
    "i=3\n",
    "print(string[i])"
   ]
  },
  {
   "cell_type": "code",
   "execution_count": 97,
   "metadata": {},
   "outputs": [],
   "source": [
    "word = \"по\"\n",
    "for i in range(0, len(word)):\n",
    " if i%2==0 and word[i] in x:\n",
    "    print(word[i])\n",
    "    \n"
   ]
  },
  {
   "cell_type": "code",
   "execution_count": null,
   "metadata": {},
   "outputs": [],
   "source": [
    "num_1 = 1812\n",
    "num_2 = 2500\n",
    "max=0\n",
    "for i in range(2,min(num_1,num_2)+1):\n",
    "    if num_1%i==0 and num_2%i==0:\n",
    "         max=i\n",
    "if max==0:\n",
    "    print ('Общих делителей не найдено')\n",
    "else:\n",
    "    print (max)"
   ]
  },
  {
   "cell_type": "code",
   "execution_count": 95,
   "metadata": {},
   "outputs": [
    {
     "name": "stdout",
     "output_type": "stream",
     "text": [
      "4\n"
     ]
    }
   ],
   "source": [
    "#num_1 = int(input())\n",
    "#num_2 = int(input())\n",
    "num_1 = 1812\n",
    "num_2 = 2500\n",
    "count=0\n",
    "for i in range (2, num_1):\n",
    " if num_1%i==0 and num_2%i==0:\n",
    "    count = i\n",
    "if count==0:\n",
    "        print ('Общих делителей не найдено')\n",
    "else:\n",
    "    print (count)"
   ]
  },
  {
   "cell_type": "code",
   "execution_count": 117,
   "metadata": {},
   "outputs": [
    {
     "name": "stdout",
     "output_type": "stream",
     "text": [
      "Это хорошая строка!\n"
     ]
    }
   ],
   "source": [
    "string = 'пока!'\n",
    "x = ('а', 'о', 'э', 'е', 'и', 'ы', 'у', 'ё', 'ю', 'я')\n",
    "y=0\n",
    "for i in range(0, len(string)):\n",
    "    if i%2==0 and string[i] in x:\n",
    "     y=i\n",
    "if y==0:\n",
    "    print(\"Это хорошая строка!\")\n",
    "else:\n",
    "    print(\"Эта строка мне не нравится!\")"
   ]
  },
  {
   "cell_type": "code",
   "execution_count": 4,
   "metadata": {},
   "outputs": [
    {
     "name": "stdout",
     "output_type": "stream",
     "text": [
      "19\n"
     ]
    }
   ],
   "source": [
    "#Y = int(input())\n",
    "#Z = int(input())\n",
    "Y = 170000\n",
    "Z = 1000000\n",
    "year=0\n",
    "while Z>=Y:\n",
    "    Y=Y*1.10\n",
    "    year+=1\n",
    "else:\n",
    "    print(year)"
   ]
  },
  {
   "cell_type": "code",
   "execution_count": 25,
   "metadata": {},
   "outputs": [
    {
     "name": "stdout",
     "output_type": "stream",
     "text": [
      "Перевес 0 кг\n"
     ]
    }
   ],
   "source": [
    "weight = 77\n",
    "while weight >400:\n",
    "    print(\"Перевес\", weight-400, \"кг\")\n",
    "    break\n",
    "else:\n",
    "    print(\"Перевес\", 0, \"кг\")"
   ]
  },
  {
   "cell_type": "code",
   "execution_count": 10,
   "metadata": {},
   "outputs": [
    {
     "name": "stdout",
     "output_type": "stream",
     "text": [
      "7\n"
     ]
    }
   ],
   "source": [
    "attack = 80\n",
    "current_health = 500\n",
    "seconds = 0\n",
    "while current_health>=0:\n",
    "    current_health = current_health-80\n",
    "    seconds+=1\n",
    "else:\n",
    "    print(seconds)"
   ]
  },
  {
   "cell_type": "code",
   "execution_count": 14,
   "metadata": {},
   "outputs": [
    {
     "name": "stdout",
     "output_type": "stream",
     "text": [
      "10000\n",
      "7200\n",
      "4400\n",
      "1600\n",
      "Слишком большие расходы\n"
     ]
    }
   ],
   "source": [
    "balance = 10000\n",
    "spent = 2800\n",
    "print(balance)\n",
    "while balance>=2800:\n",
    "    balance=balance-spent\n",
    "    print(balance)\n",
    "else:\n",
    "    print(\"Слишком большие расходы\")"
   ]
  },
  {
   "cell_type": "code",
   "execution_count": 24,
   "metadata": {},
   "outputs": [
    {
     "name": "stdout",
     "output_type": "stream",
     "text": [
      "19\n"
     ]
    }
   ],
   "source": [
    "volume = 1000\n",
    "vol_1=0\n",
    "repetitions =0\n",
    "while volume>=0:\n",
    "    vol_1+=5\n",
    "    volume=volume-vol_1\n",
    "    repetitions+=1\n",
    "else:\n",
    "    print(repetitions-1)"
   ]
  },
  {
   "cell_type": "code",
   "execution_count": 21,
   "metadata": {},
   "outputs": [
    {
     "name": "stdout",
     "output_type": "stream",
     "text": [
      "95\n",
      "950\n"
     ]
    }
   ],
   "source": [
    "x=0\n",
    "summ=0\n",
    "for i in range(1,20):\n",
    "    x+=5\n",
    "    summ=summ+x\n",
    "print(x)\n",
    "print(summ)\n"
   ]
  },
  {
   "cell_type": "code",
   "execution_count": 26,
   "metadata": {},
   "outputs": [
    {
     "name": "stdout",
     "output_type": "stream",
     "text": [
      "Перевес 62 кг\n"
     ]
    }
   ],
   "source": [
    "weight = 77\n",
    "weight_max = 400\n",
    "n = weight\n",
    "while n < weight_max:\n",
    "    n += weight\n",
    "else:\n",
    "    Sum = n - weight_max\n",
    "    print ('Перевес', Sum, 'кг')"
   ]
  },
  {
   "cell_type": "code",
   "execution_count": 27,
   "metadata": {},
   "outputs": [
    {
     "name": "stdout",
     "output_type": "stream",
     "text": [
      "Перевес 462 кг\n"
     ]
    }
   ],
   "source": [
    "weight = 77\n",
    "total_weight =0\n",
    "while total_weight <400:\n",
    "    total_weight = weight+ total_weight\n",
    "else:\n",
    "    print(\"Перевес\", total_weight, \"кг\")"
   ]
  },
  {
   "cell_type": "code",
   "execution_count": 28,
   "metadata": {},
   "outputs": [
    {
     "name": "stdout",
     "output_type": "stream",
     "text": [
      "Перевес 62 кг\n"
     ]
    }
   ],
   "source": [
    "weight = 77\n",
    "total_weight =0\n",
    "while total_weight <400:\n",
    "    total_weight = weight+ total_weight\n",
    "else:\n",
    "    print(\"Перевес\", total_weight-400, \"кг\")"
   ]
  },
  {
   "cell_type": "code",
   "execution_count": 30,
   "metadata": {},
   "outputs": [
    {
     "name": "stdout",
     "output_type": "stream",
     "text": [
      "9\n"
     ]
    }
   ],
   "source": [
    "last = 10\n",
    "first = 7\n",
    "\n",
    "if last < first or first < 0:\n",
    "    print(\"Введён неверный диапазон чисел\")\n",
    "else:\n",
    "    for i in range(first, last + 1):\n",
    "        if i%2 == 1 and (i%3 == 0 or i%5 == 0):\n",
    "            print(i)"
   ]
  },
  {
   "cell_type": "code",
   "execution_count": 31,
   "metadata": {},
   "outputs": [
    {
     "name": "stdout",
     "output_type": "stream",
     "text": [
      "1\n"
     ]
    }
   ],
   "source": [
    "print(1)"
   ]
  },
  {
   "cell_type": "code",
   "execution_count": 32,
   "metadata": {},
   "outputs": [
    {
     "name": "stdout",
     "output_type": "stream",
     "text": [
      "6765\n"
     ]
    }
   ],
   "source": [
    "n = 20\n",
    "\n",
    "fib1 = 1\n",
    "fib2 = 1\n",
    "if n == 0:\n",
    "    print(0)\n",
    "elif n <= 2:\n",
    "    print(1)\n",
    "else:\n",
    "    for n in range(2, n):\n",
    "        fib_sum = fib1 + fib2\n",
    "        fib1 = fib2\n",
    "        fib2 = fib_sum\n",
    "    else:\n",
    "        print(fib2)"
   ]
  },
  {
   "cell_type": "code",
   "execution_count": null,
   "metadata": {},
   "outputs": [],
   "source": [
    "import json\n",
    "with open('data.json', 'rb') as infile:\n",
    "    data = json.load(infile)"
   ]
  },
  {
   "cell_type": "code",
   "execution_count": null,
   "metadata": {},
   "outputs": [],
   "source": []
  }
 ],
 "metadata": {
  "kernelspec": {
   "display_name": "Python 3",
   "language": "python",
   "name": "python3"
  },
  "language_info": {
   "codemirror_mode": {
    "name": "ipython",
    "version": 3
   },
   "file_extension": ".py",
   "mimetype": "text/x-python",
   "name": "python",
   "nbconvert_exporter": "python",
   "pygments_lexer": "ipython3",
   "version": "3.7.6"
  }
 },
 "nbformat": 4,
 "nbformat_minor": 4
}
