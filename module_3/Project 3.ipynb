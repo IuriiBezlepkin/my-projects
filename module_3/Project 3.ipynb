{
 "cells": [
  {
   "cell_type": "markdown",
   "metadata": {},
   "source": [
    "# Загрузка Pandas и очистка данных"
   ]
  },
  {
   "cell_type": "code",
   "execution_count": 201,
   "metadata": {},
   "outputs": [],
   "source": [
    "import pandas as pd\n",
    "import numpy as np"
   ]
  },
  {
   "cell_type": "code",
   "execution_count": 379,
   "metadata": {},
   "outputs": [],
   "source": [
    "df = pd.read_csv('main_task.xls')"
   ]
  },
  {
   "cell_type": "code",
   "execution_count": 380,
   "metadata": {},
   "outputs": [],
   "source": [
    "# Creating New parameter, showing the availability of special (veg,vegan, gluten-free) food in a restaurant: 1 if available, 0 if not\n",
    "df['Cuisine Style'] = df['Cuisine Style'].str.replace('[','')\n",
    "df['Cuisine Style'] = df['Cuisine Style'].str.replace(']','')\n",
    "df['Cuisine Style'] = df['Cuisine Style'].str.replace(' ','')\n",
    "df['Cuisine Style'] = df['Cuisine Style'].str.replace(\"'\" ,'')\n",
    "df['Veg'] = (df['Cuisine Style'].str.contains('VegetarianFriendly'))|(df['Cuisine Style'].str.contains('GlutenFreeOptions'))|(df['Cuisine Style'].str.contains('VeganOptions'))\n",
    "df['Veg'] = df['Veg'].apply(lambda x: 1 if x==True else 0)"
   ]
  },
  {
   "cell_type": "code",
   "execution_count": 381,
   "metadata": {},
   "outputs": [],
   "source": [
    "#Creating a new dummy based of df 'City' column\n",
    "A = pd.DataFrame(df['City'].value_counts())\n",
    "A.reset_index(inplace=True)\n",
    "A = A.rename(columns = {'index':'City', 'City':'Qty of rests'})\n",
    "Top_cities = A[A['Qty of rests']>A['Qty of rests'].quantile(0.1)]['City']\n",
    "all_cities = pd.DataFrame(df['City'].value_counts()).index\n",
    "top_cities = list(all_cities)[:len(Top_cities)]\n",
    "cities_to_throw_away = list(set(all_cities) - set(top_cities))\n",
    "df.loc[df['City'].isin(cities_to_throw_away), \n",
    "             'City'] = 'other Cities'\n",
    "Dummies_City = pd.get_dummies(df.City, drop_first=True)\n",
    "df = pd.merge(df, Dummies_City, how='left', left_index = True, right_index = True)"
   ]
  },
  {
   "cell_type": "code",
   "execution_count": 382,
   "metadata": {},
   "outputs": [],
   "source": [
    "# Creating a New dummy parameter, based on df['Cuisine Style'] column\n",
    "df['Pop Cuisine'] = (df['Cuisine Style'].str.contains('European'))|(df['Cuisine Style'].str.contains('Mediterranean'))|(df['Cuisine Style'].str.contains('Italian'))\n",
    "df['Pop Cuisine'] = df['Pop Cuisine'].apply(lambda x: 'Most popular Cuisine' if x==True else 'Other Cuisine')\n",
    "Dummies_Cuisine = pd.get_dummies(df['Pop Cuisine'], drop_first=True)\n",
    "df = pd.merge(df, Dummies_Cuisine, how='left', left_index = True, right_index = True)"
   ]
  },
  {
   "cell_type": "code",
   "execution_count": 383,
   "metadata": {},
   "outputs": [],
   "source": [
    "# Creating new feature parameter, showing the number of cuisines featured in a particular restaurant\n",
    "df['Cuisine Style'].fillna('dif', inplace = True)\n",
    "df['Number of Cuisines'] = df['Cuisine Style'].apply(lambda x: x.count(',')) #counting by the number of commas in the list"
   ]
  },
  {
   "cell_type": "code",
   "execution_count": 384,
   "metadata": {},
   "outputs": [],
   "source": [
    "# Creating new feature parameter, modifying existing 'Ranking' parameter\n",
    "# by diving on the quantity of the restaurants in a particular City of dataset\n",
    "A = pd.DataFrame(df['City'].value_counts())\n",
    "A.reset_index(inplace=True)\n",
    "A = A.rename(columns = {'index':'City', 'City':'Qty of rests'})\n",
    "df = pd.merge(df, A, on='City', how='left')\n",
    "df['Ranking_modified'] = df['Ranking']/df['Qty of rests']"
   ]
  },
  {
   "cell_type": "code",
   "execution_count": 385,
   "metadata": {},
   "outputs": [],
   "source": [
    "# New parameter, recoding the \"Price Range parameter\" into numerical from 0 to 2\n",
    "df['Price Range'].fillna('$$ - $$$', inplace=True)\n",
    "price_dict = {'$':'0', '$$ - $$$':'1', '$$$$':'2'}\n",
    "df['Price Range'] = df['Price Range'].replace(to_replace=price_dict)\n",
    "df['Price Range'] = df['Price Range'].apply(lambda x: float(x))"
   ]
  },
  {
   "cell_type": "code",
   "execution_count": 386,
   "metadata": {},
   "outputs": [],
   "source": [
    "# Creating new parameter by dividing original \"Number of Reviews\" by additionally calculated mean number of Reviews within a particular city\n",
    "df['Number of Reviews'].fillna(df['Number of Reviews'].mean(), inplace = True)\n",
    "T = pd.DataFrame(df.groupby(['City'])['Number of Reviews'].mean())\n",
    "T.reset_index(inplace=True)\n",
    "T = T.rename(columns = {'Number of Reviews':'Mean City NoR'})\n",
    "df = pd.merge(df, T, on='City', how='left')\n",
    "df['NoR modified'] = df['Number of Reviews']/df['Mean City NoR']"
   ]
  },
  {
   "cell_type": "markdown",
   "metadata": {},
   "source": [
    "# Разбиваем датафрейм на части, необходимые для обучения и тестирования модели"
   ]
  },
  {
   "cell_type": "code",
   "execution_count": 388,
   "metadata": {},
   "outputs": [],
   "source": [
    "# Х - данные с информацией о ресторанах, у - целевая переменная (рейтинги ресторанов)\n",
    "X = df.drop(['Restaurant_id', 'Rating'], axis = 1)\n",
    "y = df['Rating']\n",
    "for column in X:\n",
    "    if np.dtype(X[column])=='object':\n",
    "        X.drop([column], axis=1, inplace = True)"
   ]
  },
  {
   "cell_type": "code",
   "execution_count": 389,
   "metadata": {},
   "outputs": [],
   "source": [
    "# Загружаем специальный инструмент для разбивки:\n",
    "from sklearn.model_selection import train_test_split"
   ]
  },
  {
   "cell_type": "code",
   "execution_count": 390,
   "metadata": {},
   "outputs": [],
   "source": [
    "# Наборы данных с меткой \"train\" будут использоваться для обучения модели, \"test\" - для тестирования.\n",
    "# Для тестирования мы будем использовать 25% от исходного датасета.\n",
    "X_train, X_test, y_train, y_test = train_test_split(X, y, test_size=0.25)"
   ]
  },
  {
   "cell_type": "markdown",
   "metadata": {},
   "source": [
    "# Создаём, обучаем и тестируем модель"
   ]
  },
  {
   "cell_type": "code",
   "execution_count": 392,
   "metadata": {},
   "outputs": [],
   "source": [
    "# Импортируем необходимые библиотеки:\n",
    "from sklearn.ensemble import RandomForestRegressor # инструмент для создания и обучения модели\n",
    "from sklearn import metrics # инструменты для оценки точности модели"
   ]
  },
  {
   "cell_type": "code",
   "execution_count": 393,
   "metadata": {},
   "outputs": [],
   "source": [
    "# Создаём модель\n",
    "regr = RandomForestRegressor(n_estimators=100)\n",
    "\n",
    "# Обучаем модель на тестовом наборе данных\n",
    "regr.fit(X_train, y_train)\n",
    "\n",
    "# Используем обученную модель для предсказания рейтинга ресторанов в тестовой выборке.\n",
    "# Предсказанные значения записываем в переменную y_pred\n",
    "y_pred = regr.predict(X_test)"
   ]
  },
  {
   "cell_type": "code",
   "execution_count": 394,
   "metadata": {},
   "outputs": [
    {
     "name": "stdout",
     "output_type": "stream",
     "text": [
      "MAE: 0.21193056666666665\n"
     ]
    }
   ],
   "source": [
    "# Сравниваем предсказанные значения (y_pred) с реальными (y_test), и смотрим насколько они в среднем отличаются\n",
    "# Метрика называется Mean Absolute Error (MAE) и показывает среднее отклонение предсказанных значений от фактических.\n",
    "print('MAE:', metrics.mean_absolute_error(y_test, y_pred))"
   ]
  },
  {
   "cell_type": "code",
   "execution_count": null,
   "metadata": {},
   "outputs": [],
   "source": []
  }
 ],
 "metadata": {
  "kernelspec": {
   "display_name": "Python 3",
   "language": "python",
   "name": "python3"
  },
  "language_info": {
   "codemirror_mode": {
    "name": "ipython",
    "version": 3
   },
   "file_extension": ".py",
   "mimetype": "text/x-python",
   "name": "python",
   "nbconvert_exporter": "python",
   "pygments_lexer": "ipython3",
   "version": "3.8.3"
  }
 },
 "nbformat": 4,
 "nbformat_minor": 2
}
