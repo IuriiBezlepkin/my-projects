{
 "cells": [
  {
   "cell_type": "code",
   "execution_count": 43,
   "metadata": {},
   "outputs": [
    {
     "data": {
      "text/html": [
       "<div>\n",
       "<style scoped>\n",
       "    .dataframe tbody tr th:only-of-type {\n",
       "        vertical-align: middle;\n",
       "    }\n",
       "\n",
       "    .dataframe tbody tr th {\n",
       "        vertical-align: top;\n",
       "    }\n",
       "\n",
       "    .dataframe thead th {\n",
       "        text-align: right;\n",
       "    }\n",
       "</style>\n",
       "<table border=\"1\" class=\"dataframe\">\n",
       "  <thead>\n",
       "    <tr style=\"text-align: right;\">\n",
       "      <th></th>\n",
       "      <th>school</th>\n",
       "      <th>sex</th>\n",
       "      <th>age</th>\n",
       "      <th>address</th>\n",
       "      <th>famsize</th>\n",
       "      <th>Pstatus</th>\n",
       "      <th>Medu</th>\n",
       "      <th>Fedu</th>\n",
       "      <th>Mjob</th>\n",
       "      <th>Fjob</th>\n",
       "      <th>...</th>\n",
       "      <th>studytime, granular</th>\n",
       "      <th>higher</th>\n",
       "      <th>internet</th>\n",
       "      <th>romantic</th>\n",
       "      <th>famrel</th>\n",
       "      <th>freetime</th>\n",
       "      <th>goout</th>\n",
       "      <th>health</th>\n",
       "      <th>absences</th>\n",
       "      <th>score</th>\n",
       "    </tr>\n",
       "  </thead>\n",
       "  <tbody>\n",
       "    <tr>\n",
       "      <th>0</th>\n",
       "      <td>GP</td>\n",
       "      <td>F</td>\n",
       "      <td>18</td>\n",
       "      <td>U</td>\n",
       "      <td>NaN</td>\n",
       "      <td>A</td>\n",
       "      <td>4.0</td>\n",
       "      <td>4.0</td>\n",
       "      <td>at_home</td>\n",
       "      <td>teacher</td>\n",
       "      <td>...</td>\n",
       "      <td>-6.0</td>\n",
       "      <td>yes</td>\n",
       "      <td>NaN</td>\n",
       "      <td>no</td>\n",
       "      <td>4.0</td>\n",
       "      <td>3.0</td>\n",
       "      <td>4.0</td>\n",
       "      <td>3.0</td>\n",
       "      <td>6.0</td>\n",
       "      <td>30.0</td>\n",
       "    </tr>\n",
       "    <tr>\n",
       "      <th>1</th>\n",
       "      <td>GP</td>\n",
       "      <td>F</td>\n",
       "      <td>17</td>\n",
       "      <td>U</td>\n",
       "      <td>GT3</td>\n",
       "      <td>NaN</td>\n",
       "      <td>1.0</td>\n",
       "      <td>1.0</td>\n",
       "      <td>at_home</td>\n",
       "      <td>other</td>\n",
       "      <td>...</td>\n",
       "      <td>-6.0</td>\n",
       "      <td>yes</td>\n",
       "      <td>yes</td>\n",
       "      <td>no</td>\n",
       "      <td>5.0</td>\n",
       "      <td>3.0</td>\n",
       "      <td>3.0</td>\n",
       "      <td>3.0</td>\n",
       "      <td>4.0</td>\n",
       "      <td>30.0</td>\n",
       "    </tr>\n",
       "    <tr>\n",
       "      <th>2</th>\n",
       "      <td>GP</td>\n",
       "      <td>F</td>\n",
       "      <td>15</td>\n",
       "      <td>U</td>\n",
       "      <td>LE3</td>\n",
       "      <td>T</td>\n",
       "      <td>1.0</td>\n",
       "      <td>1.0</td>\n",
       "      <td>at_home</td>\n",
       "      <td>other</td>\n",
       "      <td>...</td>\n",
       "      <td>-6.0</td>\n",
       "      <td>yes</td>\n",
       "      <td>yes</td>\n",
       "      <td>NaN</td>\n",
       "      <td>4.0</td>\n",
       "      <td>3.0</td>\n",
       "      <td>2.0</td>\n",
       "      <td>3.0</td>\n",
       "      <td>10.0</td>\n",
       "      <td>50.0</td>\n",
       "    </tr>\n",
       "    <tr>\n",
       "      <th>3</th>\n",
       "      <td>GP</td>\n",
       "      <td>F</td>\n",
       "      <td>15</td>\n",
       "      <td>U</td>\n",
       "      <td>GT3</td>\n",
       "      <td>T</td>\n",
       "      <td>4.0</td>\n",
       "      <td>2.0</td>\n",
       "      <td>health</td>\n",
       "      <td>NaN</td>\n",
       "      <td>...</td>\n",
       "      <td>-9.0</td>\n",
       "      <td>yes</td>\n",
       "      <td>yes</td>\n",
       "      <td>yes</td>\n",
       "      <td>3.0</td>\n",
       "      <td>2.0</td>\n",
       "      <td>2.0</td>\n",
       "      <td>5.0</td>\n",
       "      <td>2.0</td>\n",
       "      <td>75.0</td>\n",
       "    </tr>\n",
       "    <tr>\n",
       "      <th>4</th>\n",
       "      <td>GP</td>\n",
       "      <td>F</td>\n",
       "      <td>16</td>\n",
       "      <td>U</td>\n",
       "      <td>GT3</td>\n",
       "      <td>T</td>\n",
       "      <td>3.0</td>\n",
       "      <td>3.0</td>\n",
       "      <td>other</td>\n",
       "      <td>other</td>\n",
       "      <td>...</td>\n",
       "      <td>-6.0</td>\n",
       "      <td>yes</td>\n",
       "      <td>no</td>\n",
       "      <td>no</td>\n",
       "      <td>4.0</td>\n",
       "      <td>3.0</td>\n",
       "      <td>2.0</td>\n",
       "      <td>5.0</td>\n",
       "      <td>4.0</td>\n",
       "      <td>50.0</td>\n",
       "    </tr>\n",
       "    <tr>\n",
       "      <th>5</th>\n",
       "      <td>GP</td>\n",
       "      <td>M</td>\n",
       "      <td>16</td>\n",
       "      <td>U</td>\n",
       "      <td>LE3</td>\n",
       "      <td>T</td>\n",
       "      <td>4.0</td>\n",
       "      <td>3.0</td>\n",
       "      <td>services</td>\n",
       "      <td>other</td>\n",
       "      <td>...</td>\n",
       "      <td>-6.0</td>\n",
       "      <td>yes</td>\n",
       "      <td>yes</td>\n",
       "      <td>no</td>\n",
       "      <td>5.0</td>\n",
       "      <td>4.0</td>\n",
       "      <td>2.0</td>\n",
       "      <td>5.0</td>\n",
       "      <td>10.0</td>\n",
       "      <td>75.0</td>\n",
       "    </tr>\n",
       "    <tr>\n",
       "      <th>6</th>\n",
       "      <td>GP</td>\n",
       "      <td>M</td>\n",
       "      <td>16</td>\n",
       "      <td>NaN</td>\n",
       "      <td>LE3</td>\n",
       "      <td>T</td>\n",
       "      <td>2.0</td>\n",
       "      <td>2.0</td>\n",
       "      <td>other</td>\n",
       "      <td>other</td>\n",
       "      <td>...</td>\n",
       "      <td>-6.0</td>\n",
       "      <td>yes</td>\n",
       "      <td>yes</td>\n",
       "      <td>no</td>\n",
       "      <td>4.0</td>\n",
       "      <td>4.0</td>\n",
       "      <td>4.0</td>\n",
       "      <td>3.0</td>\n",
       "      <td>0.0</td>\n",
       "      <td>55.0</td>\n",
       "    </tr>\n",
       "    <tr>\n",
       "      <th>7</th>\n",
       "      <td>GP</td>\n",
       "      <td>F</td>\n",
       "      <td>17</td>\n",
       "      <td>U</td>\n",
       "      <td>GT3</td>\n",
       "      <td>A</td>\n",
       "      <td>4.0</td>\n",
       "      <td>4.0</td>\n",
       "      <td>other</td>\n",
       "      <td>teacher</td>\n",
       "      <td>...</td>\n",
       "      <td>-6.0</td>\n",
       "      <td>yes</td>\n",
       "      <td>no</td>\n",
       "      <td>no</td>\n",
       "      <td>4.0</td>\n",
       "      <td>1.0</td>\n",
       "      <td>4.0</td>\n",
       "      <td>1.0</td>\n",
       "      <td>6.0</td>\n",
       "      <td>30.0</td>\n",
       "    </tr>\n",
       "    <tr>\n",
       "      <th>8</th>\n",
       "      <td>GP</td>\n",
       "      <td>M</td>\n",
       "      <td>15</td>\n",
       "      <td>U</td>\n",
       "      <td>LE3</td>\n",
       "      <td>A</td>\n",
       "      <td>3.0</td>\n",
       "      <td>2.0</td>\n",
       "      <td>services</td>\n",
       "      <td>other</td>\n",
       "      <td>...</td>\n",
       "      <td>-6.0</td>\n",
       "      <td>yes</td>\n",
       "      <td>yes</td>\n",
       "      <td>no</td>\n",
       "      <td>NaN</td>\n",
       "      <td>2.0</td>\n",
       "      <td>2.0</td>\n",
       "      <td>1.0</td>\n",
       "      <td>0.0</td>\n",
       "      <td>95.0</td>\n",
       "    </tr>\n",
       "    <tr>\n",
       "      <th>9</th>\n",
       "      <td>GP</td>\n",
       "      <td>M</td>\n",
       "      <td>15</td>\n",
       "      <td>U</td>\n",
       "      <td>NaN</td>\n",
       "      <td>NaN</td>\n",
       "      <td>3.0</td>\n",
       "      <td>4.0</td>\n",
       "      <td>other</td>\n",
       "      <td>other</td>\n",
       "      <td>...</td>\n",
       "      <td>-6.0</td>\n",
       "      <td>yes</td>\n",
       "      <td>yes</td>\n",
       "      <td>no</td>\n",
       "      <td>5.0</td>\n",
       "      <td>5.0</td>\n",
       "      <td>1.0</td>\n",
       "      <td>5.0</td>\n",
       "      <td>0.0</td>\n",
       "      <td>75.0</td>\n",
       "    </tr>\n",
       "  </tbody>\n",
       "</table>\n",
       "<p>10 rows × 30 columns</p>\n",
       "</div>"
      ],
      "text/plain": [
       "  school sex  age address famsize Pstatus  Medu  Fedu      Mjob     Fjob  ...  \\\n",
       "0     GP   F   18       U     NaN       A   4.0   4.0   at_home  teacher  ...   \n",
       "1     GP   F   17       U     GT3     NaN   1.0   1.0   at_home    other  ...   \n",
       "2     GP   F   15       U     LE3       T   1.0   1.0   at_home    other  ...   \n",
       "3     GP   F   15       U     GT3       T   4.0   2.0    health      NaN  ...   \n",
       "4     GP   F   16       U     GT3       T   3.0   3.0     other    other  ...   \n",
       "5     GP   M   16       U     LE3       T   4.0   3.0  services    other  ...   \n",
       "6     GP   M   16     NaN     LE3       T   2.0   2.0     other    other  ...   \n",
       "7     GP   F   17       U     GT3       A   4.0   4.0     other  teacher  ...   \n",
       "8     GP   M   15       U     LE3       A   3.0   2.0  services    other  ...   \n",
       "9     GP   M   15       U     NaN     NaN   3.0   4.0     other    other  ...   \n",
       "\n",
       "  studytime, granular higher  internet  romantic  famrel freetime goout  \\\n",
       "0                -6.0    yes       NaN        no     4.0      3.0   4.0   \n",
       "1                -6.0    yes       yes        no     5.0      3.0   3.0   \n",
       "2                -6.0    yes       yes       NaN     4.0      3.0   2.0   \n",
       "3                -9.0    yes       yes       yes     3.0      2.0   2.0   \n",
       "4                -6.0    yes        no        no     4.0      3.0   2.0   \n",
       "5                -6.0    yes       yes        no     5.0      4.0   2.0   \n",
       "6                -6.0    yes       yes        no     4.0      4.0   4.0   \n",
       "7                -6.0    yes        no        no     4.0      1.0   4.0   \n",
       "8                -6.0    yes       yes        no     NaN      2.0   2.0   \n",
       "9                -6.0    yes       yes        no     5.0      5.0   1.0   \n",
       "\n",
       "  health absences score  \n",
       "0    3.0      6.0  30.0  \n",
       "1    3.0      4.0  30.0  \n",
       "2    3.0     10.0  50.0  \n",
       "3    5.0      2.0  75.0  \n",
       "4    5.0      4.0  50.0  \n",
       "5    5.0     10.0  75.0  \n",
       "6    3.0      0.0  55.0  \n",
       "7    1.0      6.0  30.0  \n",
       "8    1.0      0.0  95.0  \n",
       "9    5.0      0.0  75.0  \n",
       "\n",
       "[10 rows x 30 columns]"
      ]
     },
     "metadata": {},
     "output_type": "display_data"
    },
    {
     "name": "stdout",
     "output_type": "stream",
     "text": [
      "<class 'pandas.core.frame.DataFrame'>\n",
      "RangeIndex: 395 entries, 0 to 394\n",
      "Data columns (total 30 columns):\n",
      " #   Column               Non-Null Count  Dtype  \n",
      "---  ------               --------------  -----  \n",
      " 0   school               395 non-null    object \n",
      " 1   sex                  395 non-null    object \n",
      " 2   age                  395 non-null    int64  \n",
      " 3   address              378 non-null    object \n",
      " 4   famsize              368 non-null    object \n",
      " 5   Pstatus              350 non-null    object \n",
      " 6   Medu                 392 non-null    float64\n",
      " 7   Fedu                 371 non-null    float64\n",
      " 8   Mjob                 376 non-null    object \n",
      " 9   Fjob                 359 non-null    object \n",
      " 10  reason               378 non-null    object \n",
      " 11  guardian             364 non-null    object \n",
      " 12  traveltime           367 non-null    float64\n",
      " 13  studytime            388 non-null    float64\n",
      " 14  failures             373 non-null    float64\n",
      " 15  schoolsup            386 non-null    object \n",
      " 16  famsup               356 non-null    object \n",
      " 17  paid                 355 non-null    object \n",
      " 18  activities           381 non-null    object \n",
      " 19  nursery              379 non-null    object \n",
      " 20  studytime, granular  388 non-null    float64\n",
      " 21  higher               375 non-null    object \n",
      " 22  internet             361 non-null    object \n",
      " 23  romantic             364 non-null    object \n",
      " 24  famrel               368 non-null    float64\n",
      " 25  freetime             384 non-null    float64\n",
      " 26  goout                387 non-null    float64\n",
      " 27  health               380 non-null    float64\n",
      " 28  absences             383 non-null    float64\n",
      " 29  score                389 non-null    float64\n",
      "dtypes: float64(12), int64(1), object(17)\n",
      "memory usage: 92.7+ KB\n"
     ]
    }
   ],
   "source": [
    "import pandas as pd\n",
    "import matplotlib.pyplot as plt\n",
    "import seaborn as sns\n",
    "from itertools import combinations\n",
    "from scipy.stats import ttest_ind\n",
    "data = pd.read_csv('stud_math.xls')\n",
    "import warnings\n",
    "warnings.filterwarnings(\"ignore\") #get_stat_diff functions causes several warnings during execution"
   ]
  },
  {
   "cell_type": "code",
   "execution_count": 44,
   "metadata": {},
   "outputs": [],
   "source": [
    "data.columns #renaming the column for the furhter comfort usage\n",
    "data.rename(columns = {'Pstatus':'pstatus', 'Medu':'medu','Fedu':'fedu', 'Fjob':'fjob', 'Mjob':'mjob',\n",
    "                      }, inplace = True)\n",
    "#deleting column \"studytime, granular\" since no decription for it was provided\n",
    "data.drop(['studytime, granular'],axis = 1, inplace = True)"
   ]
  },
  {
   "cell_type": "code",
   "execution_count": 45,
   "metadata": {},
   "outputs": [],
   "source": [
    "# stated below function returns the quantity if missing values in all the dataframe columns:\n",
    "def missing_values(dataframe):\n",
    "    print('number of empty cells in columns:')\n",
    "    for column in dataframe:\n",
    "            empty = len(dataframe[column]) - dataframe[column].value_counts().sum()\n",
    "            print( dataframe[column].name,'=', empty)"
   ]
  },
  {
   "cell_type": "code",
   "execution_count": 46,
   "metadata": {},
   "outputs": [
    {
     "name": "stdout",
     "output_type": "stream",
     "text": [
      "number of empty cells in columns:\n",
      "school = 0\n",
      "sex = 0\n",
      "age = 0\n",
      "address = 17\n",
      "famsize = 27\n",
      "pstatus = 45\n",
      "medu = 3\n",
      "fedu = 24\n",
      "mjob = 19\n",
      "fjob = 36\n",
      "reason = 17\n",
      "guardian = 31\n",
      "traveltime = 28\n",
      "studytime = 7\n",
      "failures = 22\n",
      "schoolsup = 9\n",
      "famsup = 39\n",
      "paid = 40\n",
      "activities = 14\n",
      "nursery = 16\n",
      "higher = 20\n",
      "internet = 34\n",
      "romantic = 31\n",
      "famrel = 27\n",
      "freetime = 11\n",
      "goout = 8\n",
      "health = 15\n",
      "absences = 12\n",
      "score = 6\n"
     ]
    }
   ],
   "source": [
    "missing_values(data)\n",
    "# the researched dataframe has missing values in most of the columns\n",
    "# fully filled-in columns are only: 'school', 'sex' and 'age'. The the others got unfilled cells."
   ]
  },
  {
   "cell_type": "code",
   "execution_count": 47,
   "metadata": {},
   "outputs": [],
   "source": [
    "# The below stated fuction passes throuhg the dataframe and returns distribution of values in object columns,\n",
    "# the quantity of missing cells and the quantity of unique values\n",
    "def nominative_percentage(dataframe):\n",
    "    for column in dataframe:\n",
    "        if dataframe[column].dtypes == 'object': #passing through the object columns\n",
    "            empty = len(dataframe[column]) - dataframe[column].value_counts().sum()\n",
    "            distribution = dataframe[column].value_counts()/len(dataframe[column])\n",
    "            unique = dataframe[column].nunique()\n",
    "            print('\\n', dataframe[column].name,'\\n', \"empty cells quantity = \", empty,'\\n', \"unique values quantity = \", unique,'\\n', round(distribution,2), sep='')\n",
    "        else:\n",
    "            continue"
   ]
  },
  {
   "cell_type": "code",
   "execution_count": 48,
   "metadata": {},
   "outputs": [
    {
     "name": "stdout",
     "output_type": "stream",
     "text": [
      "\n",
      "school\n",
      "empty cells quantity = 0\n",
      "unique values quantity = 2\n",
      "GP    0.88\n",
      "MS    0.12\n",
      "Name: school, dtype: float64\n",
      "\n",
      "sex\n",
      "empty cells quantity = 0\n",
      "unique values quantity = 2\n",
      "F    0.53\n",
      "M    0.47\n",
      "Name: sex, dtype: float64\n",
      "\n",
      "address\n",
      "empty cells quantity = 17\n",
      "unique values quantity = 2\n",
      "U    0.75\n",
      "R    0.21\n",
      "Name: address, dtype: float64\n",
      "\n",
      "famsize\n",
      "empty cells quantity = 27\n",
      "unique values quantity = 2\n",
      "GT3    0.66\n",
      "LE3    0.27\n",
      "Name: famsize, dtype: float64\n",
      "\n",
      "pstatus\n",
      "empty cells quantity = 45\n",
      "unique values quantity = 2\n",
      "T    0.79\n",
      "A    0.09\n",
      "Name: pstatus, dtype: float64\n",
      "\n",
      "mjob\n",
      "empty cells quantity = 19\n",
      "unique values quantity = 5\n",
      "other       0.34\n",
      "services    0.25\n",
      "at_home     0.15\n",
      "teacher     0.14\n",
      "health      0.08\n",
      "Name: mjob, dtype: float64\n",
      "\n",
      "fjob\n",
      "empty cells quantity = 36\n",
      "unique values quantity = 5\n",
      "other       0.50\n",
      "services    0.26\n",
      "teacher     0.07\n",
      "at_home     0.04\n",
      "health      0.04\n",
      "Name: fjob, dtype: float64\n",
      "\n",
      "reason\n",
      "empty cells quantity = 17\n",
      "unique values quantity = 4\n",
      "course        0.35\n",
      "home          0.26\n",
      "reputation    0.26\n",
      "other         0.09\n",
      "Name: reason, dtype: float64\n",
      "\n",
      "guardian\n",
      "empty cells quantity = 31\n",
      "unique values quantity = 3\n",
      "mother    0.63\n",
      "father    0.22\n",
      "other     0.07\n",
      "Name: guardian, dtype: float64\n",
      "\n",
      "schoolsup\n",
      "empty cells quantity = 9\n",
      "unique values quantity = 2\n",
      "no     0.85\n",
      "yes    0.13\n",
      "Name: schoolsup, dtype: float64\n",
      "\n",
      "famsup\n",
      "empty cells quantity = 39\n",
      "unique values quantity = 2\n",
      "yes    0.55\n",
      "no     0.35\n",
      "Name: famsup, dtype: float64\n",
      "\n",
      "paid\n",
      "empty cells quantity = 40\n",
      "unique values quantity = 2\n",
      "no     0.51\n",
      "yes    0.39\n",
      "Name: paid, dtype: float64\n",
      "\n",
      "activities\n",
      "empty cells quantity = 14\n",
      "unique values quantity = 2\n",
      "yes    0.49\n",
      "no     0.47\n",
      "Name: activities, dtype: float64\n",
      "\n",
      "nursery\n",
      "empty cells quantity = 16\n",
      "unique values quantity = 2\n",
      "yes    0.76\n",
      "no     0.20\n",
      "Name: nursery, dtype: float64\n",
      "\n",
      "higher\n",
      "empty cells quantity = 20\n",
      "unique values quantity = 2\n",
      "yes    0.90\n",
      "no     0.05\n",
      "Name: higher, dtype: float64\n",
      "\n",
      "internet\n",
      "empty cells quantity = 34\n",
      "unique values quantity = 2\n",
      "yes    0.77\n",
      "no     0.14\n",
      "Name: internet, dtype: float64\n",
      "\n",
      "romantic\n",
      "empty cells quantity = 31\n",
      "unique values quantity = 2\n",
      "no     0.61\n",
      "yes    0.31\n",
      "Name: romantic, dtype: float64\n"
     ]
    }
   ],
   "source": [
    "nominative_percentage(data)\n",
    "# provided analysis lets us make some conclusions:\n",
    "    # the sampling has almost equal sex distribution;\n",
    "    # bigger part of students live in full families and a student is not the only child;\n",
    "    # 75% of students live in the cities;\n",
    "    # close to equal distribution between students visiting and non-visiting any additional acitivities;\n",
    "    # most of students have some additional study support (~85%);\n",
    "    # more than 30% of students have romantic relations;\n",
    "    # 51% of students got the additional paid math courses;\n",
    "    # 90% of students wish to join a high school;"
   ]
  },
  {
   "cell_type": "code",
   "execution_count": 49,
   "metadata": {},
   "outputs": [],
   "source": [
    "# The below stated fuction passes throuhg the dataframe and returns histogramms of float64 and int64 columns \n",
    "def non_nominative(dataframe):\n",
    "    for column in dataframe:\n",
    "        if dataframe[column].dtypes == 'object':\n",
    "            continue\n",
    "        else:\n",
    "            dataframe[column].plot(kind = 'hist', title = dataframe[column].name)\n",
    "            plt.show()"
   ]
  },
  {
   "cell_type": "code",
   "execution_count": 50,
   "metadata": {
    "scrolled": true
   },
   "outputs": [
    {
     "data": {
      "image/png": "[encoded data removed]",
      "text/plain": [
       "<Figure size 432x288 with 1 Axes>"
      ]
     },
     "metadata": {
      "needs_background": "light"
     },
     "output_type": "display_data"
    },
    {
     "data": {
      "image/png": "[encoded data removed]",
      "text/plain": [
       "<Figure size 432x288 with 1 Axes>"
      ]
     },
     "metadata": {
      "needs_background": "light"
     },
     "output_type": "display_data"
    },
    {
     "data": {
      "image/png": "[encoded data removed]",
      "text/plain": [
       "<Figure size 432x288 with 1 Axes>"
      ]
     },
     "metadata": {
      "needs_background": "light"
     },
     "output_type": "display_data"
    },
    {
     "data": {
      "image/png": "[encoded data removed]",
      "text/plain": [
       "<Figure size 432x288 with 1 Axes>"
      ]
     },
     "metadata": {
      "needs_background": "light"
     },
     "output_type": "display_data"
    },
    {
     "data": {
      "image/png": "[encoded data removed]",
      "text/plain": [
       "<Figure size 432x288 with 1 Axes>"
      ]
     },
     "metadata": {
      "needs_background": "light"
     },
     "output_type": "display_data"
    },
    {
     "data": {
      "image/png": "[encoded data removed]",
      "text/plain": [
       "<Figure size 432x288 with 1 Axes>"
      ]
     },
     "metadata": {
      "needs_background": "light"
     },
     "output_type": "display_data"
    },
    {
     "data": {
      "image/png": "[encoded data removed]",
      "text/plain": [
       "<Figure size 432x288 with 1 Axes>"
      ]
     },
     "metadata": {
      "needs_background": "light"
     },
     "output_type": "display_data"
    },
    {
     "data": {
      "image/png": "[encoded data removed]",
      "text/plain": [
       "<Figure size 432x288 with 1 Axes>"
      ]
     },
     "metadata": {
      "needs_background": "light"
     },
     "output_type": "display_data"
    },
    {
     "data": {
      "image/png": "[encoded data removed]",
      "text/plain": [
       "<Figure size 432x288 with 1 Axes>"
      ]
     },
     "metadata": {
      "needs_background": "light"
     },
     "output_type": "display_data"
    },
    {
     "data": {
      "image/png": "[encoded data removed]",
      "text/plain": [
       "<Figure size 432x288 with 1 Axes>"
      ]
     },
     "metadata": {
      "needs_background": "light"
     },
     "output_type": "display_data"
    },
    {
     "data": {
      "image/png": "[encoded data removed]",
      "text/plain": [
       "<Figure size 432x288 with 1 Axes>"
      ]
     },
     "metadata": {
      "needs_background": "light"
     },
     "output_type": "display_data"
    },
    {
     "data": {
      "image/png": "[encoded data removed]",
      "text/plain": [
       "<Figure size 432x288 with 1 Axes>"
      ]
     },
     "metadata": {
      "needs_background": "light"
     },
     "output_type": "display_data"
    }
   ],
   "source": [
    "non_nominative(data)"
   ]
  },
  {
   "cell_type": "code",
   "execution_count": 51,
   "metadata": {},
   "outputs": [
    {
     "name": "stdout",
     "output_type": "stream",
     "text": [
      "25-й percentile: 16.0, 75-й percentile: 18.0, IQR: 2.0,  Outliers range: [13.0, 21.0].\n"
     ]
    }
   ],
   "source": [
    "# checking for the outliers in 'age'column:\n",
    "median = data.age.median()\n",
    "IQR = data.age.quantile(0.75) - data.age.quantile(0.25)\n",
    "perc25 = data.age.quantile(0.25)\n",
    "perc75 = data.age.quantile(0.75)\n",
    "print('25-й percentile: {},'.format(perc25), '75-й percentile: {},'.format(perc75)\n",
    "      , \"IQR: {}, \".format(IQR),\"Outliers range: [{f}, {l}].\".format(f=perc25 - 1.5*IQR, l=perc75 + 1.5*IQR))"
   ]
  },
  {
   "cell_type": "code",
   "execution_count": 52,
   "metadata": {},
   "outputs": [
    {
     "data": {
      "text/plain": [
       "16    104\n",
       "17     98\n",
       "18     82\n",
       "15     82\n",
       "19     24\n",
       "20      3\n",
       "22      1\n",
       "21      1\n",
       "Name: age, dtype: int64"
      ]
     },
     "execution_count": 52,
     "metadata": {},
     "output_type": "execute_result"
    }
   ],
   "source": [
    "# 'age' column has outliers.no fixing required since outliers might carry useful information for the model\n",
    "data.age.value_counts()"
   ]
  },
  {
   "cell_type": "code",
   "execution_count": 53,
   "metadata": {},
   "outputs": [],
   "source": [
    "# without deeper analysis an outlier in \"fedu\" columns spotted. Probably, it is a misprint\n",
    "data.fedu = data.fedu.apply(lambda x: 4.0 if x == 40 else x) # fixing\n",
    "# \"famrel\" column also has a misprint, no negative values allowed\n",
    "data.famrel = data.famrel.apply(lambda x: 1.0 if x == -1 else x) # fixing"
   ]
  },
  {
   "cell_type": "code",
   "execution_count": 54,
   "metadata": {},
   "outputs": [
    {
     "name": "stdout",
     "output_type": "stream",
     "text": [
      "25-й percentile: 0.0, 75-й percentile: 8.0, IQR: 8.0,  Outliers range: [-12.0, 20.0].\n"
     ]
    }
   ],
   "source": [
    "# checking for the outliers in 'absences'column:\n",
    "median = data.absences.median()\n",
    "IQR = data.absences.quantile(0.75) - data.absences.quantile(0.25)\n",
    "perc25 = data.absences.quantile(0.25)\n",
    "perc75 = data.absences.quantile(0.75)\n",
    "print('25-й percentile: {},'.format(perc25), '75-й percentile: {},'.format(perc75)\n",
    "      , \"IQR: {}, \".format(IQR),\"Outliers range: [{f}, {l}].\".format(f=perc25 - 1.5*IQR, l=perc75 + 1.5*IQR))"
   ]
  },
  {
   "cell_type": "code",
   "execution_count": 55,
   "metadata": {},
   "outputs": [],
   "source": [
    "# replacing outliers with mean:\n",
    "data.absences = data.absences.apply(lambda x: data.absences.mean() if x >20 else x)"
   ]
  },
  {
   "cell_type": "code",
   "execution_count": 56,
   "metadata": {},
   "outputs": [
    {
     "name": "stdout",
     "output_type": "stream",
     "text": [
      "25-й percentile: 40.0, 75-й percentile: 70.0, IQR: 30.0,  Outliers range: [-5.0, 115.0].\n"
     ]
    }
   ],
   "source": [
    "# checking for the outliers in 'score'column:\n",
    "median = data.score.median()\n",
    "IQR = data.score.quantile(0.75) - data.score.quantile(0.25)\n",
    "perc25 = data.score.quantile(0.25)\n",
    "perc75 = data.score.quantile(0.75)\n",
    "print('25-й percentile: {},'.format(perc25), '75-й percentile: {},'.format(perc75)\n",
    "      , \"IQR: {}, \".format(IQR),\"Outliers range: [{f}, {l}].\".format(f=perc25 - 1.5*IQR, l=perc75 + 1.5*IQR))"
   ]
  },
  {
   "cell_type": "code",
   "execution_count": null,
   "metadata": {},
   "outputs": [],
   "source": [
    "# 'score' column is normally distributed and has no outliers"
   ]
  },
  {
   "cell_type": "code",
   "execution_count": 57,
   "metadata": {},
   "outputs": [
    {
     "data": {
      "text/html": [
       "<div>\n",
       "<style scoped>\n",
       "    .dataframe tbody tr th:only-of-type {\n",
       "        vertical-align: middle;\n",
       "    }\n",
       "\n",
       "    .dataframe tbody tr th {\n",
       "        vertical-align: top;\n",
       "    }\n",
       "\n",
       "    .dataframe thead th {\n",
       "        text-align: right;\n",
       "    }\n",
       "</style>\n",
       "<table border=\"1\" class=\"dataframe\">\n",
       "  <thead>\n",
       "    <tr style=\"text-align: right;\">\n",
       "      <th></th>\n",
       "      <th>age</th>\n",
       "      <th>medu</th>\n",
       "      <th>fedu</th>\n",
       "      <th>traveltime</th>\n",
       "      <th>studytime</th>\n",
       "      <th>failures</th>\n",
       "      <th>famrel</th>\n",
       "      <th>freetime</th>\n",
       "      <th>goout</th>\n",
       "      <th>health</th>\n",
       "      <th>absences</th>\n",
       "      <th>score</th>\n",
       "    </tr>\n",
       "  </thead>\n",
       "  <tbody>\n",
       "    <tr>\n",
       "      <th>age</th>\n",
       "      <td>1.000000</td>\n",
       "      <td>-0.161704</td>\n",
       "      <td>-0.163670</td>\n",
       "      <td>0.081508</td>\n",
       "      <td>-0.015556</td>\n",
       "      <td>0.228047</td>\n",
       "      <td>0.067415</td>\n",
       "      <td>0.029023</td>\n",
       "      <td>0.135107</td>\n",
       "      <td>-0.065946</td>\n",
       "      <td>0.159720</td>\n",
       "      <td>-0.155726</td>\n",
       "    </tr>\n",
       "    <tr>\n",
       "      <th>medu</th>\n",
       "      <td>-0.161704</td>\n",
       "      <td>1.000000</td>\n",
       "      <td>0.625516</td>\n",
       "      <td>-0.173515</td>\n",
       "      <td>0.078589</td>\n",
       "      <td>-0.245463</td>\n",
       "      <td>-0.014459</td>\n",
       "      <td>0.025335</td>\n",
       "      <td>0.064164</td>\n",
       "      <td>-0.045051</td>\n",
       "      <td>0.073651</td>\n",
       "      <td>0.213349</td>\n",
       "    </tr>\n",
       "    <tr>\n",
       "      <th>fedu</th>\n",
       "      <td>-0.163670</td>\n",
       "      <td>0.625516</td>\n",
       "      <td>1.000000</td>\n",
       "      <td>-0.145349</td>\n",
       "      <td>0.012896</td>\n",
       "      <td>-0.272882</td>\n",
       "      <td>-0.026122</td>\n",
       "      <td>-0.025892</td>\n",
       "      <td>0.042663</td>\n",
       "      <td>0.023862</td>\n",
       "      <td>-0.011385</td>\n",
       "      <td>0.130923</td>\n",
       "    </tr>\n",
       "    <tr>\n",
       "      <th>traveltime</th>\n",
       "      <td>0.081508</td>\n",
       "      <td>-0.173515</td>\n",
       "      <td>-0.145349</td>\n",
       "      <td>1.000000</td>\n",
       "      <td>-0.102206</td>\n",
       "      <td>0.064699</td>\n",
       "      <td>-0.021542</td>\n",
       "      <td>-0.021937</td>\n",
       "      <td>0.037636</td>\n",
       "      <td>-0.021531</td>\n",
       "      <td>-0.046261</td>\n",
       "      <td>-0.070559</td>\n",
       "    </tr>\n",
       "    <tr>\n",
       "      <th>studytime</th>\n",
       "      <td>-0.015556</td>\n",
       "      <td>0.078589</td>\n",
       "      <td>0.012896</td>\n",
       "      <td>-0.102206</td>\n",
       "      <td>1.000000</td>\n",
       "      <td>-0.178992</td>\n",
       "      <td>0.039555</td>\n",
       "      <td>-0.121969</td>\n",
       "      <td>-0.051280</td>\n",
       "      <td>-0.080016</td>\n",
       "      <td>-0.081388</td>\n",
       "      <td>0.115741</td>\n",
       "    </tr>\n",
       "    <tr>\n",
       "      <th>failures</th>\n",
       "      <td>0.228047</td>\n",
       "      <td>-0.245463</td>\n",
       "      <td>-0.272882</td>\n",
       "      <td>0.064699</td>\n",
       "      <td>-0.178992</td>\n",
       "      <td>1.000000</td>\n",
       "      <td>-0.009110</td>\n",
       "      <td>0.098382</td>\n",
       "      <td>0.120914</td>\n",
       "      <td>0.081284</td>\n",
       "      <td>0.088183</td>\n",
       "      <td>-0.344338</td>\n",
       "    </tr>\n",
       "    <tr>\n",
       "      <th>famrel</th>\n",
       "      <td>0.067415</td>\n",
       "      <td>-0.014459</td>\n",
       "      <td>-0.026122</td>\n",
       "      <td>-0.021542</td>\n",
       "      <td>0.039555</td>\n",
       "      <td>-0.009110</td>\n",
       "      <td>1.000000</td>\n",
       "      <td>0.172751</td>\n",
       "      <td>0.077167</td>\n",
       "      <td>0.086309</td>\n",
       "      <td>-0.092044</td>\n",
       "      <td>0.055305</td>\n",
       "    </tr>\n",
       "    <tr>\n",
       "      <th>freetime</th>\n",
       "      <td>0.029023</td>\n",
       "      <td>0.025335</td>\n",
       "      <td>-0.025892</td>\n",
       "      <td>-0.021937</td>\n",
       "      <td>-0.121969</td>\n",
       "      <td>0.098382</td>\n",
       "      <td>0.172751</td>\n",
       "      <td>1.000000</td>\n",
       "      <td>0.296437</td>\n",
       "      <td>0.061575</td>\n",
       "      <td>0.075162</td>\n",
       "      <td>0.019026</td>\n",
       "    </tr>\n",
       "    <tr>\n",
       "      <th>goout</th>\n",
       "      <td>0.135107</td>\n",
       "      <td>0.064164</td>\n",
       "      <td>0.042663</td>\n",
       "      <td>0.037636</td>\n",
       "      <td>-0.051280</td>\n",
       "      <td>0.120914</td>\n",
       "      <td>0.077167</td>\n",
       "      <td>0.296437</td>\n",
       "      <td>1.000000</td>\n",
       "      <td>-0.015608</td>\n",
       "      <td>0.107168</td>\n",
       "      <td>-0.129685</td>\n",
       "    </tr>\n",
       "    <tr>\n",
       "      <th>health</th>\n",
       "      <td>-0.065946</td>\n",
       "      <td>-0.045051</td>\n",
       "      <td>0.023862</td>\n",
       "      <td>-0.021531</td>\n",
       "      <td>-0.080016</td>\n",
       "      <td>0.081284</td>\n",
       "      <td>0.086309</td>\n",
       "      <td>0.061575</td>\n",
       "      <td>-0.015608</td>\n",
       "      <td>1.000000</td>\n",
       "      <td>-0.020292</td>\n",
       "      <td>-0.070460</td>\n",
       "    </tr>\n",
       "    <tr>\n",
       "      <th>absences</th>\n",
       "      <td>0.159720</td>\n",
       "      <td>0.073651</td>\n",
       "      <td>-0.011385</td>\n",
       "      <td>-0.046261</td>\n",
       "      <td>-0.081388</td>\n",
       "      <td>0.088183</td>\n",
       "      <td>-0.092044</td>\n",
       "      <td>0.075162</td>\n",
       "      <td>0.107168</td>\n",
       "      <td>-0.020292</td>\n",
       "      <td>1.000000</td>\n",
       "      <td>0.080415</td>\n",
       "    </tr>\n",
       "    <tr>\n",
       "      <th>score</th>\n",
       "      <td>-0.155726</td>\n",
       "      <td>0.213349</td>\n",
       "      <td>0.130923</td>\n",
       "      <td>-0.070559</td>\n",
       "      <td>0.115741</td>\n",
       "      <td>-0.344338</td>\n",
       "      <td>0.055305</td>\n",
       "      <td>0.019026</td>\n",
       "      <td>-0.129685</td>\n",
       "      <td>-0.070460</td>\n",
       "      <td>0.080415</td>\n",
       "      <td>1.000000</td>\n",
       "    </tr>\n",
       "  </tbody>\n",
       "</table>\n",
       "</div>"
      ],
      "text/plain": [
       "                 age      medu      fedu  traveltime  studytime  failures  \\\n",
       "age         1.000000 -0.161704 -0.163670    0.081508  -0.015556  0.228047   \n",
       "medu       -0.161704  1.000000  0.625516   -0.173515   0.078589 -0.245463   \n",
       "fedu       -0.163670  0.625516  1.000000   -0.145349   0.012896 -0.272882   \n",
       "traveltime  0.081508 -0.173515 -0.145349    1.000000  -0.102206  0.064699   \n",
       "studytime  -0.015556  0.078589  0.012896   -0.102206   1.000000 -0.178992   \n",
       "failures    0.228047 -0.245463 -0.272882    0.064699  -0.178992  1.000000   \n",
       "famrel      0.067415 -0.014459 -0.026122   -0.021542   0.039555 -0.009110   \n",
       "freetime    0.029023  0.025335 -0.025892   -0.021937  -0.121969  0.098382   \n",
       "goout       0.135107  0.064164  0.042663    0.037636  -0.051280  0.120914   \n",
       "health     -0.065946 -0.045051  0.023862   -0.021531  -0.080016  0.081284   \n",
       "absences    0.159720  0.073651 -0.011385   -0.046261  -0.081388  0.088183   \n",
       "score      -0.155726  0.213349  0.130923   -0.070559   0.115741 -0.344338   \n",
       "\n",
       "              famrel  freetime     goout    health  absences     score  \n",
       "age         0.067415  0.029023  0.135107 -0.065946  0.159720 -0.155726  \n",
       "medu       -0.014459  0.025335  0.064164 -0.045051  0.073651  0.213349  \n",
       "fedu       -0.026122 -0.025892  0.042663  0.023862 -0.011385  0.130923  \n",
       "traveltime -0.021542 -0.021937  0.037636 -0.021531 -0.046261 -0.070559  \n",
       "studytime   0.039555 -0.121969 -0.051280 -0.080016 -0.081388  0.115741  \n",
       "failures   -0.009110  0.098382  0.120914  0.081284  0.088183 -0.344338  \n",
       "famrel      1.000000  0.172751  0.077167  0.086309 -0.092044  0.055305  \n",
       "freetime    0.172751  1.000000  0.296437  0.061575  0.075162  0.019026  \n",
       "goout       0.077167  0.296437  1.000000 -0.015608  0.107168 -0.129685  \n",
       "health      0.086309  0.061575 -0.015608  1.000000 -0.020292 -0.070460  \n",
       "absences   -0.092044  0.075162  0.107168 -0.020292  1.000000  0.080415  \n",
       "score       0.055305  0.019026 -0.129685 -0.070460  0.080415  1.000000  "
      ]
     },
     "execution_count": 57,
     "metadata": {},
     "output_type": "execute_result"
    }
   ],
   "source": [
    "# performing correlation analysis to research the columns correlated with 'Score'\n",
    "data.corr()\n",
    "# observing the strongest negative correlation with \"failures\" column and \n",
    "# negative correlation with 'age', elder students tend to get higher score probably due to increasing experience\n",
    "# negative correlation with 'goout', logically students tend to replace study time with walks with friends\n",
    "# positive correlation with 'medu'"
   ]
  },
  {
   "cell_type": "code",
   "execution_count": 63,
   "metadata": {},
   "outputs": [],
   "source": [
    "# stated fuction performs the t-test for the 'score' column:\n",
    "def get_stat_dif(column):\n",
    "    cols = data.loc[:, column].value_counts().index[:]\n",
    "    combinations_all = list(combinations(cols, 2))\n",
    "    for comb in combinations_all:\n",
    "        if ttest_ind(data.loc[data.loc[:, column] == comb[0], 'score'],\n",
    "                     data.loc[data.loc[:, column] == comb[1], 'score'], nan_policy='omit').pvalue \\\n",
    "                <= 0.05/len(combinations_all):  # Bonferoni amendment counted\n",
    "            print('found statistically significant differencies for the column', column)\n",
    "            break"
   ]
  },
  {
   "cell_type": "code",
   "execution_count": 66,
   "metadata": {},
   "outputs": [
    {
     "name": "stdout",
     "output_type": "stream",
     "text": [
      "found statistically significant differencies for the column address\n",
      "found statistically significant differencies for the column medu\n",
      "found statistically significant differencies for the column mjob\n",
      "found statistically significant differencies for the column failures\n",
      "found statistically significant differencies for the column higher\n",
      "found statistically significant differencies for the column goout\n",
      "found statistically significant differencies for the column romantic\n"
     ]
    }
   ],
   "source": [
    "data_cat = ['school', 'sex', 'address', 'famsize', 'medu', 'fedu', 'mjob', 'fjob', 'reason', 'guardian',\n",
    "           'traveltime', 'studytime', 'failures', 'schoolsup', 'famsup','paid', 'famrel', 'freetime',\n",
    "            'activities', 'nursery', 'higher', 'internet', 'goout', 'health', 'romantic']\n",
    "for col in data_cat:\n",
    "               get_stat_dif(col)"
   ]
  },
  {
   "cell_type": "code",
   "execution_count": null,
   "metadata": {},
   "outputs": [],
   "source": [
    "# visualising boxplots for the the previous stage selected columns"
   ]
  },
  {
   "cell_type": "code",
   "execution_count": 61,
   "metadata": {},
   "outputs": [],
   "source": [
    "# function to set the boxplots:\n",
    "def get_boxplot(column):\n",
    "    fig, ax = plt.subplots(figsize = (14, 4))\n",
    "    sns.boxplot(x=column, y='score', \n",
    "                data=data.loc[data.loc[:, column].isin(data.loc[:, column].value_counts().index[:10])],\n",
    "               ax=ax)\n",
    "    plt.xticks(rotation=45)\n",
    "    ax.set_title('Boxplot for ' + column)\n",
    "    plt.show()"
   ]
  },
  {
   "cell_type": "code",
   "execution_count": 62,
   "metadata": {},
   "outputs": [
    {
     "data": {
      "image/png": "[encoded data removed]",
      "text/plain": [
       "<Figure size 1008x288 with 1 Axes>"
      ]
     },
     "metadata": {
      "needs_background": "light"
     },
     "output_type": "display_data"
    },
    {
     "data": {
      "image/png": "[encoded data removed]",
      "text/plain": [
       "<Figure size 1008x288 with 1 Axes>"
      ]
     },
     "metadata": {
      "needs_background": "light"
     },
     "output_type": "display_data"
    },
    {
     "data": {
      "image/png": "[encoded data removed]",
      "text/plain": [
       "<Figure size 1008x288 with 1 Axes>"
      ]
     },
     "metadata": {
      "needs_background": "light"
     },
     "output_type": "display_data"
    },
    {
     "data": {
      "image/png": "[encoded data removed]",
      "text/plain": [
       "<Figure size 1008x288 with 1 Axes>"
      ]
     },
     "metadata": {
      "needs_background": "light"
     },
     "output_type": "display_data"
    },
    {
     "data": {
      "image/png": "[encoded data removed]",
      "text/plain": [
       "<Figure size 1008x288 with 1 Axes>"
      ]
     },
     "metadata": {
      "needs_background": "light"
     },
     "output_type": "display_data"
    },
    {
     "data": {
      "image/png": "[encoded data removed]",
      "text/plain": [
       "<Figure size 1008x288 with 1 Axes>"
      ]
     },
     "metadata": {
      "needs_background": "light"
     },
     "output_type": "display_data"
    },
    {
     "data": {
      "image/png": "[encoded data removed]",
      "text/plain": [
       "<Figure size 1008x288 with 1 Axes>"
      ]
     },
     "metadata": {
      "needs_background": "light"
     },
     "output_type": "display_data"
    }
   ],
   "source": [
    "for col in ['address', 'medu', 'mjob','failures',  'goout', 'romantic', 'higher' ]:\n",
    "    get_boxplot(col)"
   ]
  },
  {
   "cell_type": "code",
   "execution_count": null,
   "metadata": {},
   "outputs": [],
   "source": [
    "# The boxplots additionally confirm the results of the T-test.\n",
    "# So, for the further model those 7 selected columns are recommended to be left in a dataset for the further modelling."
   ]
  },
  {
   "cell_type": "code",
   "execution_count": null,
   "metadata": {},
   "outputs": [],
   "source": [
    "# according to the set boxplots the below conclusions can be made:\n",
    "\n",
    "# students living in the cities got better scores. Their minimum score is much higher.\n",
    "# dependence betweeb the quality of mothers education and score. Better mothers educations causes better score of a student.\n",
    "# Students who's mothers are occupied in a healthcare got higher scores.\n",
    "# The strongest negative correlation between score and number of non-study failures. Students those previously succeeded tend to\n",
    "# have the highest scores. Anyway, this correlations seems to need an addtitonal research.\n",
    "# The worse scores got the students those got either little amount of walks or too lot of them. \n",
    "# So, recapitulating - children should walk, but not spending all their free time for that.\n",
    "# Students with no romantic relations tend to have higher score. Probably, because spent this time for study.\n",
    "# Students wishing to join a high school got much higher scores. Huge gap between the average and maximum results.\n",
    "# Logic seems to be quite simple, students with no intention to join a university pay no attention to preparing for the tests.\n"
   ]
  },
  {
   "cell_type": "code",
   "execution_count": null,
   "metadata": {},
   "outputs": [],
   "source": [
    "# my comments for the mentor:\n",
    " # I was trying hard not to miss anything according the set up list of the necessary to be done things in the project.\n",
    " # Nevertheless, I got a feeling that might have misundertood something or missed something critical due to haste since\n",
    " # was catching up the flow since August vacation.\n",
    " # Also, probably an important thing - I didnt drop the columns those not to be taken to further modelling, not being sure whether \n",
    " # it is necessary of not."
   ]
  }
 ],
 "metadata": {
  "kernelspec": {
   "display_name": "Python 3",
   "language": "python",
   "name": "python3"
  },
  "language_info": {
   "codemirror_mode": {
    "name": "ipython",
    "version": 3
   },
   "file_extension": ".py",
   "mimetype": "text/x-python",
   "name": "python",
   "nbconvert_exporter": "python",
   "pygments_lexer": "ipython3",
   "version": "3.8.3"
  }
 },
 "nbformat": 4,
 "nbformat_minor": 4
}
